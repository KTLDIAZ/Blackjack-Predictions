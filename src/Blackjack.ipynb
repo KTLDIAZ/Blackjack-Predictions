{
 "cells": [
  {
   "cell_type": "markdown",
   "metadata": {},
   "source": [
    "# Exploratory analysis Blackjack hands"
   ]
  },
  {
   "cell_type": "code",
   "execution_count": 1,
   "metadata": {},
   "outputs": [],
   "source": [
    "import numpy as np\n",
    "import pandas as pd\n",
    "import seaborn as sns\n",
    "import sys\n",
    "import matplotlib.pyplot as plt\n",
    "%matplotlib inline\n",
    "import seaborn as sns"
   ]
  },
  {
   "cell_type": "markdown",
   "metadata": {},
   "source": [
    "## Load and review Data"
   ]
  },
  {
   "cell_type": "code",
   "execution_count": 2,
   "metadata": {},
   "outputs": [],
   "source": [
    "df = pd.read_csv('Data//blkjckhands.csv')"
   ]
  },
  {
   "cell_type": "code",
   "execution_count": 3,
   "metadata": {},
   "outputs": [
    {
     "name": "stdout",
     "output_type": "stream",
     "text": [
      "<class 'pandas.core.frame.DataFrame'>\n",
      "RangeIndex: 900000 entries, 0 to 899999\n",
      "Data columns (total 21 columns):\n",
      " #   Column       Non-Null Count   Dtype \n",
      "---  ------       --------------   ----- \n",
      " 0   Unnamed: 0   900000 non-null  int64 \n",
      " 1   PlayerNo     900000 non-null  object\n",
      " 2   card1        900000 non-null  int64 \n",
      " 3   card2        900000 non-null  int64 \n",
      " 4   card3        900000 non-null  int64 \n",
      " 5   card4        900000 non-null  int64 \n",
      " 6   card5        900000 non-null  int64 \n",
      " 7   sumofcards   900000 non-null  int64 \n",
      " 8   dealcard1    900000 non-null  int64 \n",
      " 9   dealcard2    900000 non-null  int64 \n",
      " 10  dealcard3    900000 non-null  int64 \n",
      " 11  dealcard4    900000 non-null  int64 \n",
      " 12  dealcard5    900000 non-null  int64 \n",
      " 13  sumofdeal    900000 non-null  int64 \n",
      " 14  blkjck       900000 non-null  object\n",
      " 15  winloss      900000 non-null  object\n",
      " 16  plybustbeat  900000 non-null  object\n",
      " 17  dlbustbeat   900000 non-null  object\n",
      " 18  plwinamt     900000 non-null  int64 \n",
      " 19  dlwinamt     900000 non-null  int64 \n",
      " 20  ply2cardsum  900000 non-null  int64 \n",
      "dtypes: int64(16), object(5)\n",
      "memory usage: 144.2+ MB\n"
     ]
    }
   ],
   "source": [
    "df.info()"
   ]
  },
  {
   "cell_type": "markdown",
   "metadata": {},
   "source": [
    "Our data doesn't have nulls."
   ]
  },
  {
   "cell_type": "code",
   "execution_count": 4,
   "metadata": {},
   "outputs": [
    {
     "data": {
      "text/html": [
       "<div>\n",
       "<style scoped>\n",
       "    .dataframe tbody tr th:only-of-type {\n",
       "        vertical-align: middle;\n",
       "    }\n",
       "\n",
       "    .dataframe tbody tr th {\n",
       "        vertical-align: top;\n",
       "    }\n",
       "\n",
       "    .dataframe thead th {\n",
       "        text-align: right;\n",
       "    }\n",
       "</style>\n",
       "<table border=\"1\" class=\"dataframe\">\n",
       "  <thead>\n",
       "    <tr style=\"text-align: right;\">\n",
       "      <th></th>\n",
       "      <th>Unnamed: 0</th>\n",
       "      <th>PlayerNo</th>\n",
       "      <th>card1</th>\n",
       "      <th>card2</th>\n",
       "      <th>card3</th>\n",
       "      <th>card4</th>\n",
       "      <th>card5</th>\n",
       "      <th>sumofcards</th>\n",
       "      <th>dealcard1</th>\n",
       "      <th>dealcard2</th>\n",
       "      <th>...</th>\n",
       "      <th>dealcard4</th>\n",
       "      <th>dealcard5</th>\n",
       "      <th>sumofdeal</th>\n",
       "      <th>blkjck</th>\n",
       "      <th>winloss</th>\n",
       "      <th>plybustbeat</th>\n",
       "      <th>dlbustbeat</th>\n",
       "      <th>plwinamt</th>\n",
       "      <th>dlwinamt</th>\n",
       "      <th>ply2cardsum</th>\n",
       "    </tr>\n",
       "  </thead>\n",
       "  <tbody>\n",
       "    <tr>\n",
       "      <th>0</th>\n",
       "      <td>0</td>\n",
       "      <td>Player1</td>\n",
       "      <td>7</td>\n",
       "      <td>10</td>\n",
       "      <td>0</td>\n",
       "      <td>0</td>\n",
       "      <td>0</td>\n",
       "      <td>17</td>\n",
       "      <td>10</td>\n",
       "      <td>8</td>\n",
       "      <td>...</td>\n",
       "      <td>0</td>\n",
       "      <td>0</td>\n",
       "      <td>18</td>\n",
       "      <td>nowin</td>\n",
       "      <td>Loss</td>\n",
       "      <td>Beat</td>\n",
       "      <td>Dlwin</td>\n",
       "      <td>0</td>\n",
       "      <td>10</td>\n",
       "      <td>17</td>\n",
       "    </tr>\n",
       "    <tr>\n",
       "      <th>1</th>\n",
       "      <td>1</td>\n",
       "      <td>Player2</td>\n",
       "      <td>10</td>\n",
       "      <td>9</td>\n",
       "      <td>0</td>\n",
       "      <td>0</td>\n",
       "      <td>0</td>\n",
       "      <td>19</td>\n",
       "      <td>10</td>\n",
       "      <td>8</td>\n",
       "      <td>...</td>\n",
       "      <td>0</td>\n",
       "      <td>0</td>\n",
       "      <td>18</td>\n",
       "      <td>nowin</td>\n",
       "      <td>Win</td>\n",
       "      <td>Plwin</td>\n",
       "      <td>Beat</td>\n",
       "      <td>20</td>\n",
       "      <td>0</td>\n",
       "      <td>19</td>\n",
       "    </tr>\n",
       "    <tr>\n",
       "      <th>2</th>\n",
       "      <td>2</td>\n",
       "      <td>Player3</td>\n",
       "      <td>9</td>\n",
       "      <td>8</td>\n",
       "      <td>0</td>\n",
       "      <td>0</td>\n",
       "      <td>0</td>\n",
       "      <td>17</td>\n",
       "      <td>10</td>\n",
       "      <td>8</td>\n",
       "      <td>...</td>\n",
       "      <td>0</td>\n",
       "      <td>0</td>\n",
       "      <td>18</td>\n",
       "      <td>nowin</td>\n",
       "      <td>Loss</td>\n",
       "      <td>Beat</td>\n",
       "      <td>Dlwin</td>\n",
       "      <td>0</td>\n",
       "      <td>10</td>\n",
       "      <td>17</td>\n",
       "    </tr>\n",
       "    <tr>\n",
       "      <th>3</th>\n",
       "      <td>3</td>\n",
       "      <td>Player4</td>\n",
       "      <td>2</td>\n",
       "      <td>10</td>\n",
       "      <td>0</td>\n",
       "      <td>5</td>\n",
       "      <td>0</td>\n",
       "      <td>17</td>\n",
       "      <td>10</td>\n",
       "      <td>8</td>\n",
       "      <td>...</td>\n",
       "      <td>0</td>\n",
       "      <td>0</td>\n",
       "      <td>18</td>\n",
       "      <td>nowin</td>\n",
       "      <td>Loss</td>\n",
       "      <td>Beat</td>\n",
       "      <td>Dlwin</td>\n",
       "      <td>0</td>\n",
       "      <td>10</td>\n",
       "      <td>12</td>\n",
       "    </tr>\n",
       "    <tr>\n",
       "      <th>4</th>\n",
       "      <td>4</td>\n",
       "      <td>Player5</td>\n",
       "      <td>10</td>\n",
       "      <td>2</td>\n",
       "      <td>0</td>\n",
       "      <td>5</td>\n",
       "      <td>0</td>\n",
       "      <td>17</td>\n",
       "      <td>10</td>\n",
       "      <td>8</td>\n",
       "      <td>...</td>\n",
       "      <td>0</td>\n",
       "      <td>0</td>\n",
       "      <td>18</td>\n",
       "      <td>nowin</td>\n",
       "      <td>Loss</td>\n",
       "      <td>Beat</td>\n",
       "      <td>Dlwin</td>\n",
       "      <td>0</td>\n",
       "      <td>10</td>\n",
       "      <td>12</td>\n",
       "    </tr>\n",
       "  </tbody>\n",
       "</table>\n",
       "<p>5 rows × 21 columns</p>\n",
       "</div>"
      ],
      "text/plain": [
       "   Unnamed: 0 PlayerNo  card1  card2  card3  card4  card5  sumofcards  \\\n",
       "0           0  Player1      7     10      0      0      0          17   \n",
       "1           1  Player2     10      9      0      0      0          19   \n",
       "2           2  Player3      9      8      0      0      0          17   \n",
       "3           3  Player4      2     10      0      5      0          17   \n",
       "4           4  Player5     10      2      0      5      0          17   \n",
       "\n",
       "   dealcard1  dealcard2  ...  dealcard4  dealcard5  sumofdeal  blkjck winloss  \\\n",
       "0         10          8  ...          0          0         18   nowin    Loss   \n",
       "1         10          8  ...          0          0         18   nowin     Win   \n",
       "2         10          8  ...          0          0         18   nowin    Loss   \n",
       "3         10          8  ...          0          0         18   nowin    Loss   \n",
       "4         10          8  ...          0          0         18   nowin    Loss   \n",
       "\n",
       "  plybustbeat dlbustbeat plwinamt  dlwinamt  ply2cardsum  \n",
       "0        Beat      Dlwin        0        10           17  \n",
       "1       Plwin       Beat       20         0           19  \n",
       "2        Beat      Dlwin        0        10           17  \n",
       "3        Beat      Dlwin        0        10           12  \n",
       "4        Beat      Dlwin        0        10           12  \n",
       "\n",
       "[5 rows x 21 columns]"
      ]
     },
     "execution_count": 4,
     "metadata": {},
     "output_type": "execute_result"
    }
   ],
   "source": [
    "df.head()"
   ]
  },
  {
   "cell_type": "markdown",
   "metadata": {},
   "source": [
    "Review values of the columns that we need to transform or delete."
   ]
  },
  {
   "cell_type": "markdown",
   "metadata": {},
   "source": [
    "### Analysis Features\n",
    "From the metadata on the data source we have the following definition of the features.\n",
    "\n",
    "| Feature  | Description | Comments |\n",
    "|--------------|-------------|--------|\n",
    "| PlayerNo     |Identifies each player - There are 6 of them playing each round.||\n",
    "| winloss     |Player WIn or Loss|this is the variable that we are interested in predicting|\n",
    "| card1 |First card dealt to the player.|\n",
    "| card2 |Second card dealt to the player.|\n",
    "| card3 |Third card dealt to the player. (If needed else 0) |\n",
    "| card4 |Fourth card dealt to the player. (If needed else 0) |\n",
    "| card5 |Fifth card dealt to the player. (If needed else 0) |\n",
    "| dealcard1 |First card dealt to the Dealer. |\n",
    "| dealcard2 |Second card dealt to the Dealer. |\n",
    "| dealcard3 |Third card dealt to the Dealer. (If needed else 0) |\n",
    "| dealcard4 |Fourth card dealt to the Dealer. (If needed else 0) |\n",
    "| dealcard5 | Fifth card dealt to the Dealer. (If needed else 0)|\n",
    "| sumofcards |Sum of all cards of player|\n",
    "| sumofdeal |Sum of all cards of Dealer|\n",
    "|plwinamt |Total amount won by Player (each round)| "
   ]
  },
  {
   "cell_type": "code",
   "execution_count": 5,
   "metadata": {},
   "outputs": [
    {
     "name": "stdout",
     "output_type": "stream",
     "text": [
      "PlayerNo:  {'Player5', 'Player3', 'Player1', 'Player2', 'Player6', 'Player4'}\n",
      "blkjck:  {'nowin', 'Win'}\n",
      "winloss:  {'Win', 'Push', 'Loss'}\n",
      "plybustbeat:  {'Push', 'Plwin', 'Bust', 'DlBust', 'Beat'}\n",
      "dlbustbeat:  {'Push', 'Bust', 'PlBust', 'Beat', 'Dlwin'}\n",
      "plwinamt:  {0, 25, 10, 20}\n",
      "ply2cardsum:  {2, 3, 4, 5, 6, 7, 8, 9, 10, 11, 12, 13, 14, 15, 16, 17, 18, 19, 20, 21}\n"
     ]
    }
   ],
   "source": [
    "print(\"PlayerNo: \",set(df['PlayerNo']))\n",
    "print(\"blkjck: \",set(df['blkjck']))\n",
    "print(\"winloss: \",set(df['winloss']))\n",
    "print(\"plybustbeat: \",set(df['plybustbeat']))\n",
    "print(\"dlbustbeat: \",set(df['dlbustbeat']))\n",
    "print(\"plwinamt: \",set(df['plwinamt']))\n",
    "print(\"ply2cardsum: \",set(df['ply2cardsum']))"
   ]
  },
  {
   "cell_type": "markdown",
   "metadata": {},
   "source": [
    "## Edit dataset"
   ]
  },
  {
   "cell_type": "markdown",
   "metadata": {},
   "source": [
    "This step involves removing irrelevant columns such as PlayerNo, plybustbeat, and many more, and the code is pretty much self-explanatory"
   ]
  },
  {
   "cell_type": "code",
   "execution_count": 6,
   "metadata": {},
   "outputs": [],
   "source": [
    "del df['Unnamed: 0']\n",
    "del df['PlayerNo']\n",
    "del df['dlbustbeat']\n",
    "del df['plybustbeat']\n",
    "del df['plwinamt']\n",
    "del df['dlwinamt']"
   ]
  },
  {
   "cell_type": "markdown",
   "metadata": {},
   "source": [
    "This step involves replacing the incomplete values or making the values more readable, such as in here the winloss field consists of the values 2, 1 and 0 being 2 as Loss, 1 as Push and 0 as Win, but it often seems ambiguous for the third person, so changing the value to an understandable one is a good idea."
   ]
  },
  {
   "cell_type": "code",
   "execution_count": 7,
   "metadata": {},
   "outputs": [],
   "source": [
    "blkjck_map= {'nowin':0, 'Win':1}\n",
    "df['blkjck'] = df['blkjck'].map(blkjck_map)"
   ]
  },
  {
   "cell_type": "code",
   "execution_count": 8,
   "metadata": {},
   "outputs": [],
   "source": [
    "winloss_map= {'Push':1, 'Loss':2, 'Win':0}\n",
    "df['winloss'] = df['winloss'].map(winloss_map)"
   ]
  },
  {
   "cell_type": "code",
   "execution_count": 9,
   "metadata": {},
   "outputs": [
    {
     "data": {
      "text/html": [
       "<div>\n",
       "<style scoped>\n",
       "    .dataframe tbody tr th:only-of-type {\n",
       "        vertical-align: middle;\n",
       "    }\n",
       "\n",
       "    .dataframe tbody tr th {\n",
       "        vertical-align: top;\n",
       "    }\n",
       "\n",
       "    .dataframe thead th {\n",
       "        text-align: right;\n",
       "    }\n",
       "</style>\n",
       "<table border=\"1\" class=\"dataframe\">\n",
       "  <thead>\n",
       "    <tr style=\"text-align: right;\">\n",
       "      <th></th>\n",
       "      <th>card1</th>\n",
       "      <th>card2</th>\n",
       "      <th>card3</th>\n",
       "      <th>card4</th>\n",
       "      <th>card5</th>\n",
       "      <th>sumofcards</th>\n",
       "      <th>dealcard1</th>\n",
       "      <th>dealcard2</th>\n",
       "      <th>dealcard3</th>\n",
       "      <th>dealcard4</th>\n",
       "      <th>dealcard5</th>\n",
       "      <th>sumofdeal</th>\n",
       "      <th>blkjck</th>\n",
       "      <th>winloss</th>\n",
       "      <th>ply2cardsum</th>\n",
       "    </tr>\n",
       "  </thead>\n",
       "  <tbody>\n",
       "    <tr>\n",
       "      <th>0</th>\n",
       "      <td>7</td>\n",
       "      <td>10</td>\n",
       "      <td>0</td>\n",
       "      <td>0</td>\n",
       "      <td>0</td>\n",
       "      <td>17</td>\n",
       "      <td>10</td>\n",
       "      <td>8</td>\n",
       "      <td>0</td>\n",
       "      <td>0</td>\n",
       "      <td>0</td>\n",
       "      <td>18</td>\n",
       "      <td>0</td>\n",
       "      <td>2</td>\n",
       "      <td>17</td>\n",
       "    </tr>\n",
       "    <tr>\n",
       "      <th>1</th>\n",
       "      <td>10</td>\n",
       "      <td>9</td>\n",
       "      <td>0</td>\n",
       "      <td>0</td>\n",
       "      <td>0</td>\n",
       "      <td>19</td>\n",
       "      <td>10</td>\n",
       "      <td>8</td>\n",
       "      <td>0</td>\n",
       "      <td>0</td>\n",
       "      <td>0</td>\n",
       "      <td>18</td>\n",
       "      <td>0</td>\n",
       "      <td>0</td>\n",
       "      <td>19</td>\n",
       "    </tr>\n",
       "    <tr>\n",
       "      <th>2</th>\n",
       "      <td>9</td>\n",
       "      <td>8</td>\n",
       "      <td>0</td>\n",
       "      <td>0</td>\n",
       "      <td>0</td>\n",
       "      <td>17</td>\n",
       "      <td>10</td>\n",
       "      <td>8</td>\n",
       "      <td>0</td>\n",
       "      <td>0</td>\n",
       "      <td>0</td>\n",
       "      <td>18</td>\n",
       "      <td>0</td>\n",
       "      <td>2</td>\n",
       "      <td>17</td>\n",
       "    </tr>\n",
       "    <tr>\n",
       "      <th>3</th>\n",
       "      <td>2</td>\n",
       "      <td>10</td>\n",
       "      <td>0</td>\n",
       "      <td>5</td>\n",
       "      <td>0</td>\n",
       "      <td>17</td>\n",
       "      <td>10</td>\n",
       "      <td>8</td>\n",
       "      <td>0</td>\n",
       "      <td>0</td>\n",
       "      <td>0</td>\n",
       "      <td>18</td>\n",
       "      <td>0</td>\n",
       "      <td>2</td>\n",
       "      <td>12</td>\n",
       "    </tr>\n",
       "    <tr>\n",
       "      <th>4</th>\n",
       "      <td>10</td>\n",
       "      <td>2</td>\n",
       "      <td>0</td>\n",
       "      <td>5</td>\n",
       "      <td>0</td>\n",
       "      <td>17</td>\n",
       "      <td>10</td>\n",
       "      <td>8</td>\n",
       "      <td>0</td>\n",
       "      <td>0</td>\n",
       "      <td>0</td>\n",
       "      <td>18</td>\n",
       "      <td>0</td>\n",
       "      <td>2</td>\n",
       "      <td>12</td>\n",
       "    </tr>\n",
       "  </tbody>\n",
       "</table>\n",
       "</div>"
      ],
      "text/plain": [
       "   card1  card2  card3  card4  card5  sumofcards  dealcard1  dealcard2  \\\n",
       "0      7     10      0      0      0          17         10          8   \n",
       "1     10      9      0      0      0          19         10          8   \n",
       "2      9      8      0      0      0          17         10          8   \n",
       "3      2     10      0      5      0          17         10          8   \n",
       "4     10      2      0      5      0          17         10          8   \n",
       "\n",
       "   dealcard3  dealcard4  dealcard5  sumofdeal  blkjck  winloss  ply2cardsum  \n",
       "0          0          0          0         18       0        2           17  \n",
       "1          0          0          0         18       0        0           19  \n",
       "2          0          0          0         18       0        2           17  \n",
       "3          0          0          0         18       0        2           12  \n",
       "4          0          0          0         18       0        2           12  "
      ]
     },
     "execution_count": 9,
     "metadata": {},
     "output_type": "execute_result"
    }
   ],
   "source": [
    "df.head()"
   ]
  },
  {
   "cell_type": "markdown",
   "metadata": {},
   "source": [
    "## Correlated feature check"
   ]
  },
  {
   "cell_type": "code",
   "execution_count": 10,
   "metadata": {},
   "outputs": [
    {
     "data": {
      "text/html": [
       "<div>\n",
       "<style scoped>\n",
       "    .dataframe tbody tr th:only-of-type {\n",
       "        vertical-align: middle;\n",
       "    }\n",
       "\n",
       "    .dataframe tbody tr th {\n",
       "        vertical-align: top;\n",
       "    }\n",
       "\n",
       "    .dataframe thead th {\n",
       "        text-align: right;\n",
       "    }\n",
       "</style>\n",
       "<table border=\"1\" class=\"dataframe\">\n",
       "  <thead>\n",
       "    <tr style=\"text-align: right;\">\n",
       "      <th></th>\n",
       "      <th>card1</th>\n",
       "      <th>card2</th>\n",
       "      <th>card3</th>\n",
       "      <th>card4</th>\n",
       "      <th>card5</th>\n",
       "      <th>sumofcards</th>\n",
       "      <th>dealcard1</th>\n",
       "      <th>dealcard2</th>\n",
       "      <th>dealcard3</th>\n",
       "      <th>dealcard4</th>\n",
       "      <th>dealcard5</th>\n",
       "      <th>sumofdeal</th>\n",
       "      <th>blkjck</th>\n",
       "      <th>winloss</th>\n",
       "      <th>ply2cardsum</th>\n",
       "    </tr>\n",
       "  </thead>\n",
       "  <tbody>\n",
       "    <tr>\n",
       "      <th>count</th>\n",
       "      <td>900000.000000</td>\n",
       "      <td>900000.000000</td>\n",
       "      <td>900000.000000</td>\n",
       "      <td>900000.000000</td>\n",
       "      <td>900000.000000</td>\n",
       "      <td>900000.000000</td>\n",
       "      <td>900000.000000</td>\n",
       "      <td>900000.000000</td>\n",
       "      <td>900000.000000</td>\n",
       "      <td>900000.000000</td>\n",
       "      <td>900000.000000</td>\n",
       "      <td>900000.000000</td>\n",
       "      <td>900000.000000</td>\n",
       "      <td>900000.000000</td>\n",
       "      <td>900000.000000</td>\n",
       "    </tr>\n",
       "    <tr>\n",
       "      <th>mean</th>\n",
       "      <td>7.126259</td>\n",
       "      <td>7.089927</td>\n",
       "      <td>1.955088</td>\n",
       "      <td>2.336462</td>\n",
       "      <td>0.389787</td>\n",
       "      <td>18.897522</td>\n",
       "      <td>7.170380</td>\n",
       "      <td>7.129867</td>\n",
       "      <td>4.391293</td>\n",
       "      <td>1.380733</td>\n",
       "      <td>0.226433</td>\n",
       "      <td>20.298707</td>\n",
       "      <td>0.047846</td>\n",
       "      <td>1.048750</td>\n",
       "      <td>14.216186</td>\n",
       "    </tr>\n",
       "    <tr>\n",
       "      <th>std</th>\n",
       "      <td>2.994719</td>\n",
       "      <td>3.008032</td>\n",
       "      <td>3.531830</td>\n",
       "      <td>3.657284</td>\n",
       "      <td>1.730740</td>\n",
       "      <td>3.210611</td>\n",
       "      <td>2.981575</td>\n",
       "      <td>2.990306</td>\n",
       "      <td>4.080103</td>\n",
       "      <td>3.038298</td>\n",
       "      <td>1.334263</td>\n",
       "      <td>2.556207</td>\n",
       "      <td>0.213439</td>\n",
       "      <td>0.950806</td>\n",
       "      <td>4.429873</td>\n",
       "    </tr>\n",
       "    <tr>\n",
       "      <th>min</th>\n",
       "      <td>1.000000</td>\n",
       "      <td>1.000000</td>\n",
       "      <td>0.000000</td>\n",
       "      <td>0.000000</td>\n",
       "      <td>0.000000</td>\n",
       "      <td>8.000000</td>\n",
       "      <td>1.000000</td>\n",
       "      <td>1.000000</td>\n",
       "      <td>0.000000</td>\n",
       "      <td>0.000000</td>\n",
       "      <td>0.000000</td>\n",
       "      <td>8.000000</td>\n",
       "      <td>0.000000</td>\n",
       "      <td>0.000000</td>\n",
       "      <td>2.000000</td>\n",
       "    </tr>\n",
       "    <tr>\n",
       "      <th>25%</th>\n",
       "      <td>5.000000</td>\n",
       "      <td>4.000000</td>\n",
       "      <td>0.000000</td>\n",
       "      <td>0.000000</td>\n",
       "      <td>0.000000</td>\n",
       "      <td>17.000000</td>\n",
       "      <td>5.000000</td>\n",
       "      <td>5.000000</td>\n",
       "      <td>0.000000</td>\n",
       "      <td>0.000000</td>\n",
       "      <td>0.000000</td>\n",
       "      <td>18.000000</td>\n",
       "      <td>0.000000</td>\n",
       "      <td>0.000000</td>\n",
       "      <td>12.000000</td>\n",
       "    </tr>\n",
       "    <tr>\n",
       "      <th>50%</th>\n",
       "      <td>8.000000</td>\n",
       "      <td>8.000000</td>\n",
       "      <td>0.000000</td>\n",
       "      <td>0.000000</td>\n",
       "      <td>0.000000</td>\n",
       "      <td>19.000000</td>\n",
       "      <td>8.000000</td>\n",
       "      <td>8.000000</td>\n",
       "      <td>4.000000</td>\n",
       "      <td>0.000000</td>\n",
       "      <td>0.000000</td>\n",
       "      <td>20.000000</td>\n",
       "      <td>0.000000</td>\n",
       "      <td>1.000000</td>\n",
       "      <td>14.000000</td>\n",
       "    </tr>\n",
       "    <tr>\n",
       "      <th>75%</th>\n",
       "      <td>10.000000</td>\n",
       "      <td>10.000000</td>\n",
       "      <td>2.000000</td>\n",
       "      <td>4.000000</td>\n",
       "      <td>0.000000</td>\n",
       "      <td>21.000000</td>\n",
       "      <td>10.000000</td>\n",
       "      <td>10.000000</td>\n",
       "      <td>9.000000</td>\n",
       "      <td>0.000000</td>\n",
       "      <td>0.000000</td>\n",
       "      <td>22.000000</td>\n",
       "      <td>0.000000</td>\n",
       "      <td>2.000000</td>\n",
       "      <td>18.000000</td>\n",
       "    </tr>\n",
       "    <tr>\n",
       "      <th>max</th>\n",
       "      <td>11.000000</td>\n",
       "      <td>11.000000</td>\n",
       "      <td>11.000000</td>\n",
       "      <td>10.000000</td>\n",
       "      <td>10.000000</td>\n",
       "      <td>26.000000</td>\n",
       "      <td>11.000000</td>\n",
       "      <td>11.000000</td>\n",
       "      <td>11.000000</td>\n",
       "      <td>10.000000</td>\n",
       "      <td>10.000000</td>\n",
       "      <td>26.000000</td>\n",
       "      <td>1.000000</td>\n",
       "      <td>2.000000</td>\n",
       "      <td>21.000000</td>\n",
       "    </tr>\n",
       "  </tbody>\n",
       "</table>\n",
       "</div>"
      ],
      "text/plain": [
       "               card1          card2          card3          card4  \\\n",
       "count  900000.000000  900000.000000  900000.000000  900000.000000   \n",
       "mean        7.126259       7.089927       1.955088       2.336462   \n",
       "std         2.994719       3.008032       3.531830       3.657284   \n",
       "min         1.000000       1.000000       0.000000       0.000000   \n",
       "25%         5.000000       4.000000       0.000000       0.000000   \n",
       "50%         8.000000       8.000000       0.000000       0.000000   \n",
       "75%        10.000000      10.000000       2.000000       4.000000   \n",
       "max        11.000000      11.000000      11.000000      10.000000   \n",
       "\n",
       "               card5     sumofcards      dealcard1      dealcard2  \\\n",
       "count  900000.000000  900000.000000  900000.000000  900000.000000   \n",
       "mean        0.389787      18.897522       7.170380       7.129867   \n",
       "std         1.730740       3.210611       2.981575       2.990306   \n",
       "min         0.000000       8.000000       1.000000       1.000000   \n",
       "25%         0.000000      17.000000       5.000000       5.000000   \n",
       "50%         0.000000      19.000000       8.000000       8.000000   \n",
       "75%         0.000000      21.000000      10.000000      10.000000   \n",
       "max        10.000000      26.000000      11.000000      11.000000   \n",
       "\n",
       "           dealcard3      dealcard4      dealcard5      sumofdeal  \\\n",
       "count  900000.000000  900000.000000  900000.000000  900000.000000   \n",
       "mean        4.391293       1.380733       0.226433      20.298707   \n",
       "std         4.080103       3.038298       1.334263       2.556207   \n",
       "min         0.000000       0.000000       0.000000       8.000000   \n",
       "25%         0.000000       0.000000       0.000000      18.000000   \n",
       "50%         4.000000       0.000000       0.000000      20.000000   \n",
       "75%         9.000000       0.000000       0.000000      22.000000   \n",
       "max        11.000000      10.000000      10.000000      26.000000   \n",
       "\n",
       "              blkjck        winloss    ply2cardsum  \n",
       "count  900000.000000  900000.000000  900000.000000  \n",
       "mean        0.047846       1.048750      14.216186  \n",
       "std         0.213439       0.950806       4.429873  \n",
       "min         0.000000       0.000000       2.000000  \n",
       "25%         0.000000       0.000000      12.000000  \n",
       "50%         0.000000       1.000000      14.000000  \n",
       "75%         0.000000       2.000000      18.000000  \n",
       "max         1.000000       2.000000      21.000000  "
      ]
     },
     "execution_count": 10,
     "metadata": {},
     "output_type": "execute_result"
    }
   ],
   "source": [
    "df.describe()"
   ]
  },
  {
   "cell_type": "code",
   "execution_count": 11,
   "metadata": {},
   "outputs": [
    {
     "data": {
      "text/plain": [
       "<AxesSubplot:>"
      ]
     },
     "execution_count": 11,
     "metadata": {},
     "output_type": "execute_result"
    },
    {
     "data": {
      "image/png": "[encoded data removed]",
      "text/plain": [
       "<Figure size 1152x720 with 2 Axes>"
      ]
     },
     "metadata": {
      "needs_background": "light"
     },
     "output_type": "display_data"
    }
   ],
   "source": [
    "plt.figure(figsize=(16,10))\n",
    "sns.heatmap(df.corr(), annot=True)"
   ]
  },
  {
   "cell_type": "markdown",
   "metadata": {},
   "source": [
    "## Multilinear Regression"
   ]
  },
  {
   "cell_type": "markdown",
   "metadata": {},
   "source": [
    "#### Probability that player wins with his first 2 cards and first dealer card"
   ]
  },
  {
   "cell_type": "code",
   "execution_count": 12,
   "metadata": {},
   "outputs": [],
   "source": [
    "import statsmodels.api as sm\n",
    "from sklearn.linear_model import LinearRegression\n",
    "from sklearn.metrics import mean_squared_error, r2_score"
   ]
  },
  {
   "cell_type": "code",
   "execution_count": 13,
   "metadata": {},
   "outputs": [],
   "source": [
    "model = LinearRegression()"
   ]
  },
  {
   "cell_type": "code",
   "execution_count": 14,
   "metadata": {},
   "outputs": [],
   "source": [
    "x = df[['card1','card2', 'dealcard1']].values\n",
    "y = df[\"winloss\"].values"
   ]
  },
  {
   "cell_type": "code",
   "execution_count": 15,
   "metadata": {},
   "outputs": [
    {
     "data": {
      "text/plain": [
       "LinearRegression()"
      ]
     },
     "execution_count": 15,
     "metadata": {},
     "output_type": "execute_result"
    }
   ],
   "source": [
    "model.fit(x,y)"
   ]
  },
  {
   "cell_type": "code",
   "execution_count": 16,
   "metadata": {},
   "outputs": [
    {
     "name": "stdout",
     "output_type": "stream",
     "text": [
      "coeficiente de determinacion: [-0.04708552 -0.04662319  0.0449917 ]\n",
      "intercepto 1.3922409844517705\n"
     ]
    }
   ],
   "source": [
    "print(\"coeficiente de determinacion:\", model.coef_)\n",
    "print(\"intercepto\", model.intercept_)"
   ]
  },
  {
   "cell_type": "code",
   "execution_count": 17,
   "metadata": {},
   "outputs": [],
   "source": [
    "yPredict = model.predict(x)"
   ]
  },
  {
   "cell_type": "code",
   "execution_count": 18,
   "metadata": {},
   "outputs": [],
   "source": [
    "card1 = 8\n",
    "card2 = 10\n",
    "dealcard1 = 10"
   ]
  },
  {
   "cell_type": "code",
   "execution_count": 19,
   "metadata": {},
   "outputs": [
    {
     "name": "stdout",
     "output_type": "stream",
     "text": [
      "[0.99924197]\n"
     ]
    }
   ],
   "source": [
    "print(model.predict([[card1, card2, dealcard1]]))"
   ]
  },
  {
   "cell_type": "code",
   "execution_count": 20,
   "metadata": {},
   "outputs": [
    {
     "name": "stdout",
     "output_type": "stream",
     "text": [
      "Score 0.06770153844321625\n",
      "Error 0.8428269112027816\n"
     ]
    }
   ],
   "source": [
    "print(\"Score\", r2_score(y, yPredict))\n",
    "print(\"Error\", mean_squared_error(y, yPredict))"
   ]
  },
  {
   "cell_type": "code",
   "execution_count": 21,
   "metadata": {},
   "outputs": [
    {
     "data": {
      "text/plain": [
       "<matplotlib.legend.Legend at 0x1aa0fa328b0>"
      ]
     },
     "execution_count": 21,
     "metadata": {},
     "output_type": "execute_result"
    },
    {
     "data": {
      "image/png": "[encoded data removed]",
      "text/plain": [
       "<Figure size 864x576 with 1 Axes>"
      ]
     },
     "metadata": {},
     "output_type": "display_data"
    }
   ],
   "source": [
    "sns.set(style='darkgrid', context='notebook')\n",
    "plt.figure(figsize=(12,8));\n",
    "plt.scatter(df['card1'], df['winloss'],\n",
    "    c='blue', marker='o', label='card1')\n",
    "plt.scatter(df['card2'], df['winloss'],\n",
    "    c='orange', marker='s', label='card2')\n",
    "plt.scatter(df['dealcard1'], df['winloss'],\n",
    "    c='purple', marker='o', label='dealcard1')\n",
    "sns.regplot(x=df['winloss'],y=yPredict, color='green')\n",
    "plt.xlabel('card1- card2 - dealcard1')\n",
    "plt.ylabel('Distance to center')\n",
    "plt.legend(loc='upper left')"
   ]
  },
  {
   "cell_type": "markdown",
   "metadata": {},
   "source": [
    "# Probability Model"
   ]
  },
  {
   "cell_type": "markdown",
   "metadata": {},
   "source": [
    "The first rule of probability is that the probability must normalize. The sum of the probability of all events must equal 1. So if the probability of heads (Y = 1) is 0.5, then the probability of tails (the only other possible outcome) is given by\n",
    "P(Y = 0) = 1 − P(Y = 1) = 0.5\n",
    "\n",
    "Probabilities are often defined as the limit of the ratio between the number of positive outcomes (e.g. heads) given the number of trials. If the number of positive outcomes for event y is denoted by n and the number of trials is denoted by N then this gives the ratio"
   ]
  },
  {
   "cell_type": "markdown",
   "metadata": {},
   "source": [
    "## Predicting sumofcards"
   ]
  },
  {
   "cell_type": "code",
   "execution_count": 22,
   "metadata": {},
   "outputs": [
    {
     "name": "stdout",
     "output_type": "stream",
     "text": [
      "Sumofcards length:  93773\n"
     ]
    }
   ],
   "source": [
    "x =  21\n",
    "length = (df.sumofcards==x).sum()\n",
    "print(\"Sumofcards length: \", length)"
   ]
  },
  {
   "cell_type": "markdown",
   "metadata": {},
   "source": [
    "In winloss column we have 0 for win, 1 for push, 2 for loss"
   ]
  },
  {
   "cell_type": "code",
   "execution_count": 23,
   "metadata": {},
   "outputs": [
    {
     "name": "stdout",
     "output_type": "stream",
     "text": [
      "Win percentaje: 82391 (87.9%)\n"
     ]
    }
   ],
   "source": [
    "win = ((df.sumofcards==x)  & (df.winloss==0)).sum()\n",
    "print(\"Win percentaje: {0} ({1:2.1f}%)\".format(win,(win/length)*100))"
   ]
  },
  {
   "cell_type": "code",
   "execution_count": 24,
   "metadata": {},
   "outputs": [
    {
     "name": "stdout",
     "output_type": "stream",
     "text": [
      "loss percentaje: 0 (0.0%)\n"
     ]
    }
   ],
   "source": [
    "loss = ((df.sumofcards==x)  & (df.winloss==2)).sum()\n",
    "print(\"loss percentaje: {0} ({1:2.1f}%)\".format(loss,(loss/length)*100))"
   ]
  },
  {
   "cell_type": "code",
   "execution_count": 25,
   "metadata": {},
   "outputs": [
    {
     "name": "stdout",
     "output_type": "stream",
     "text": [
      "push percentaje: 11382 (12.1%)\n"
     ]
    }
   ],
   "source": [
    "push = ((df.sumofcards==x)  & (df.winloss==1)).sum()\n",
    "print(\"push percentaje: {0} ({1:2.1f}%)\".format(push,(push/length)*100))"
   ]
  },
  {
   "cell_type": "markdown",
   "metadata": {},
   "source": [
    "## Predict blackjack"
   ]
  },
  {
   "cell_type": "markdown",
   "metadata": {},
   "source": [
    "We want to see the probability win with a blackjack, In blkjck 1 is for win 0 is for nowin."
   ]
  },
  {
   "cell_type": "code",
   "execution_count": 26,
   "metadata": {},
   "outputs": [
    {
     "name": "stdout",
     "output_type": "stream",
     "text": [
      "nowin length:  856939\n"
     ]
    }
   ],
   "source": [
    "nowin = (df.blkjck==0).sum()\n",
    "print(\"nowin length: \", nowin)"
   ]
  },
  {
   "cell_type": "code",
   "execution_count": 27,
   "metadata": {},
   "outputs": [
    {
     "name": "stdout",
     "output_type": "stream",
     "text": [
      "win length:  43061\n"
     ]
    }
   ],
   "source": [
    "win = (df.blkjck==1).sum()\n",
    "print(\"win length: \", win)"
   ]
  },
  {
   "cell_type": "markdown",
   "metadata": {},
   "source": [
    "Obtaining results"
   ]
  },
  {
   "cell_type": "code",
   "execution_count": 28,
   "metadata": {},
   "outputs": [
    {
     "name": "stdout",
     "output_type": "stream",
     "text": [
      "win_blackjack percentaje: 37985 (88.2%)\n"
     ]
    }
   ],
   "source": [
    "win_blackjack = ((df.blkjck==1)& (df.winloss==0)).sum()\n",
    "print(\"win_blackjack percentaje: {0} ({1:2.1f}%)\".format(win_blackjack,(win_blackjack/win)*100))"
   ]
  },
  {
   "cell_type": "code",
   "execution_count": 29,
   "metadata": {},
   "outputs": [
    {
     "name": "stdout",
     "output_type": "stream",
     "text": [
      "loss_blackjack percentaje: 0 (0.0%)\n"
     ]
    }
   ],
   "source": [
    "loss_blackjack = ((df.blkjck==1)& (df.winloss==2)).sum()\n",
    "print(\"loss_blackjack percentaje: {0} ({1:2.1f}%)\".format(loss_blackjack,(loss_blackjack/win)*100))"
   ]
  },
  {
   "cell_type": "code",
   "execution_count": 30,
   "metadata": {},
   "outputs": [
    {
     "name": "stdout",
     "output_type": "stream",
     "text": [
      "push_blackjack percentaje: 5076 (11.8%)\n"
     ]
    }
   ],
   "source": [
    "push_blackjack = ((df.blkjck==1)& (df.winloss==1)).sum()\n",
    "print(\"push_blackjack percentaje: {0} ({1:2.1f}%)\".format(push_blackjack,(push_blackjack/win)*100))"
   ]
  },
  {
   "cell_type": "markdown",
   "metadata": {},
   "source": [
    "## Predicting with 2 cards of player"
   ]
  },
  {
   "cell_type": "code",
   "execution_count": 31,
   "metadata": {},
   "outputs": [
    {
     "name": "stdout",
     "output_type": "stream",
     "text": [
      "card1 and car2 length:  5430\n"
     ]
    }
   ],
   "source": [
    "x1 =  8\n",
    "x2 = 9\n",
    "length = ((df.card1==x1) & (df.card2 ==x2) ).sum()\n",
    "print(\"card1 and car2 length: \", length)"
   ]
  },
  {
   "cell_type": "code",
   "execution_count": 32,
   "metadata": {},
   "outputs": [
    {
     "name": "stdout",
     "output_type": "stream",
     "text": [
      "Win percentaje: 1542 (28.4%)\n"
     ]
    }
   ],
   "source": [
    "win = ((df.card1==x1) & (df.card2 ==x2)  & (df.winloss==0)).sum()\n",
    "print(\"Win percentaje: {0} ({1:2.1f}%)\".format(win,(win/length)*100))"
   ]
  },
  {
   "cell_type": "code",
   "execution_count": 33,
   "metadata": {},
   "outputs": [
    {
     "name": "stdout",
     "output_type": "stream",
     "text": [
      "loss percentaje: 3116 (57.4%)\n"
     ]
    }
   ],
   "source": [
    "loss = ((df.card1==x1) & (df.card2 ==x2)  & (df.winloss==2)).sum()\n",
    "print(\"loss percentaje: {0} ({1:2.1f}%)\".format(loss,(loss/length)*100))"
   ]
  },
  {
   "cell_type": "code",
   "execution_count": 34,
   "metadata": {},
   "outputs": [
    {
     "name": "stdout",
     "output_type": "stream",
     "text": [
      "push percentaje: 772 (14.2%)\n"
     ]
    }
   ],
   "source": [
    "push = ((df.card1==x1) & (df.card2 ==x2)  & (df.winloss==1)).sum()\n",
    "print(\"push percentaje: {0} ({1:2.1f}%)\".format(push,(push/length)*100))"
   ]
  }
 ],
 "metadata": {
  "kernelspec": {
   "display_name": "Python 3",
   "language": "python",
   "name": "python3"
  },
  "language_info": {
   "codemirror_mode": {
    "name": "ipython",
    "version": 3
   },
   "file_extension": ".py",
   "mimetype": "text/x-python",
   "name": "python",
   "nbconvert_exporter": "python",
   "pygments_lexer": "ipython3",
   "version": "3.8.5"
  }
 },
 "nbformat": 4,
 "nbformat_minor": 4
}
